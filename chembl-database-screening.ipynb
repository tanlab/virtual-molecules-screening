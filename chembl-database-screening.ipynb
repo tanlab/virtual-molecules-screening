{
 "cells": [
  {
   "cell_type": "code",
   "execution_count": null,
   "metadata": {},
   "outputs": [],
   "source": [
    "import numpy as np\n",
    "import tensorflow as tf\n",
    "from tensorflow import keras\n",
    "import pandas as pd\n",
    "import keras.backend as K"
   ]
  },
  {
   "cell_type": "code",
   "execution_count": null,
   "metadata": {},
   "outputs": [],
   "source": [
    "def load_models(up,dn):\n",
    "    model_up = keras.models.load_model(up)\n",
    "    model_dn = keras.models.load_model(dn)\n",
    "    return model_up, model_dn"
   ]
  },
  {
   "cell_type": "code",
   "execution_count": null,
   "metadata": {},
   "outputs": [],
   "source": [
    "model_up, model_dn = load_models(\"multi-task_ecfp_models/MCF7_multi_task_model_ecfp_up.h5\",\"multi-task_ecfp_models/MCF7_multi_task_model_ecfp_dn.h5\")"
   ]
  },
  {
   "cell_type": "code",
   "execution_count": null,
   "metadata": {},
   "outputs": [],
   "source": [
    "def load_data():\n",
    "    gene_list_up = pd.read_csv('MCF7_multi_task_ecfp_gene_list_up.txt',header=None ,delimiter = \"\\t\")\n",
    "    gene_list_dn = pd.read_csv('MCF7_multi_task_ecfp_gene_list_dn.txt',header=None ,delimiter = \"\\t\")\n",
    "    genes_up = gene_list_up[0].tolist()\n",
    "    genes_dn = gene_list_dn[0].tolist()\n",
    "\n",
    "    df = pd.read_csv(\"chembl_ecfp.csv\")\n",
    "    ecfp = df['ecfp'].tolist()\n",
    "    smiles = df['smiles'].tolist()\n",
    "    \n",
    "    return genes_up,genes_dn,ecfp, smiles"
   ]
  },
  {
   "cell_type": "code",
   "execution_count": null,
   "metadata": {},
   "outputs": [],
   "source": [
    "genes_up,genes_dn,ecfp, smiles = load_data()"
   ]
  },
  {
   "cell_type": "code",
   "execution_count": null,
   "metadata": {},
   "outputs": [],
   "source": [
    "def load_target():\n",
    "    \n",
    "    gene_target_up = pd.read_csv('harmonizome_dn_binarized_use_for_up_model.csv')\n",
    "    gene_target_up1 = gene_target_dn[gene_target_dn['disease1'] == 'Breast Cancer_Mammary Gland Tissue_GSE1872']\n",
    "    gene_target_up2 = gene_target_dn[gene_target_dn['disease1'] == 'Breast Cancer_Mammary gland_GSE2528']\n",
    "    gene_target_up3 = gene_target_dn[gene_target_dn['disease1'] == 'Breast Cancer_Mammary Gland Tissue_GSE2429']\n",
    "    gene_target_up4 = gene_target_dn[gene_target_dn['disease1'] == 'Breast Cancer_Mammary Gland Tissue_GSE3744']\n",
    "    gene_target_up5 = gene_target_dn[gene_target_dn['disease1'] == 'Breast Cancer_Mammary Gland Tissue_GSE1378']\n",
    "    gene_target_up6 = gene_target_dn[gene_target_dn['disease1'] == 'Breast Cancer_Mammary Gland Tissue_GSE1379']\n",
    "    \n",
    "    \n",
    "    gene_target_dn = pd.read_csv('harmonizome_dn_binarized_use_for_up_model.csv')\n",
    "    gene_target_dn1 = gene_target_dn[gene_target_dn['disease1'] == 'Breast Cancer_Mammary Gland Tissue_GSE1872']\n",
    "    gene_target_dn2 = gene_target_dn[gene_target_dn['disease1'] == 'Breast Cancer_Mammary gland_GSE2528']\n",
    "    gene_target_dn3 = gene_target_dn[gene_target_dn['disease1'] == 'Breast Cancer_Mammary Gland Tissue_GSE2429']\n",
    "    gene_target_dn4 = gene_target_dn[gene_target_dn['disease1'] == 'Breast Cancer_Mammary Gland Tissue_GSE3744']\n",
    "    gene_target_dn5 = gene_target_dn[gene_target_dn['disease1'] == 'Breast Cancer_Mammary Gland Tissue_GSE1378']\n",
    "    gene_target_dn6 = gene_target_dn[gene_target_dn['disease1'] == 'Breast Cancer_Mammary Gland Tissue_GSE1379']\n",
    "\n",
    "    return gene_target_up1,gene_target_up2,gene_target_up3,gene_target_up4,gene_target_up5,gene_target_up6,\n",
    "gene_target_dn1,gene_target_dn2,gene_target_dn3,gene_target_dn4,gene_target_dn5,gene_target_dn6"
   ]
  },
  {
   "cell_type": "code",
   "execution_count": null,
   "metadata": {},
   "outputs": [],
   "source": [
    "gene_target_up1,gene_target_up2,gene_target_up3,gene_target_up4,gene_target_up5,gene_target_up6,\n",
    "gene_target_dn1,gene_target_dn2,gene_target_dn3,gene_target_dn4,gene_target_dn5,gene_target_dn6 = load_target()"
   ]
  },
  {
   "cell_type": "code",
   "execution_count": null,
   "metadata": {},
   "outputs": [],
   "source": [
    "def secilen_genes(genes,secilen_genes):\n",
    "    vector = {}\n",
    "    vectors= []\n",
    "    for i in secilen_genes.columns:\n",
    "        for j in genes:\n",
    "            if(i == j):\n",
    "            vector[i] = int(secilen_genes[i])\n",
    "            \n",
    "    for q,w in vector.items():\n",
    "        vectors.append(w)\n",
    "    vectors=np.array(vectors)\n",
    "\n",
    "    return vectors"
   ]
  },
  {
   "cell_type": "code",
   "execution_count": null,
   "metadata": {},
   "outputs": [],
   "source": [
    "vector_up1 = secilen_genes(genes_up,gene_target_up1)\n",
    "vector_up2 = secilen_genes(genes_up,gene_target_up2)\n",
    "vector_up3 = secilen_genes(genes_up,gene_target_up3)\n",
    "vector_up4 = secilen_genes(genes_up,gene_target_up4)\n",
    "vector_up5 = secilen_genes(genes_up,gene_target_up5)\n",
    "vector_up6 = secilen_genes(genes_up,gene_target_up6)\n",
    "\n",
    "vector_dn1 = secilen_genes(genes_dn,gene_target_dn1)\n",
    "vector_dn2 = secilen_genes(genes_dn,gene_target_dn2)\n",
    "vector_dn3 = secilen_genes(genes_dn,gene_target_dn3)\n",
    "vector_dn4 = secilen_genes(genes_dn,gene_target_dn4)\n",
    "vector_dn5 = secilen_genes(genes_dn,gene_target_dn5)\n",
    "vector_dn6 = secilen_genes(genes_dnz,gene_target_dn6)"
   ]
  },
  {
   "cell_type": "code",
   "execution_count": null,
   "metadata": {},
   "outputs": [],
   "source": [
    "ecfpler = []\n",
    "smileslar = []\n",
    "def sanal_tarama(p,s, ecfp, smiles,new_aranan_dn,new_aranan_up):\n",
    "    \n",
    "    for k in range(0,len(smiles)):\n",
    "        bin_ecfp = ecfp[p:s]\n",
    "        ecfp_new = ecfp[p:s]\n",
    "        smiles_new = smiles[p:s]\n",
    "        temp = np.zeros((1000,1024))\n",
    "        \n",
    "        for i in range(0,len(bin_ecfp)):\n",
    "            for j in range(0,1024):\n",
    "                temp[i,j] = bin_ecfp[i][j]\n",
    "\n",
    "        pred_list = [x for x in model_up.predict(temp)]\n",
    "        y_up = np.zeros((pred_list[0].shape[0], len(pred_list)))\n",
    "        for i in range(len(pred_list)):\n",
    "            y_up[:, i] = pred_list[i].flatten()\n",
    "        y_up = np.where(y_up > 0.5, 1, 0)\n",
    "\n",
    "        pred_list = [x for x in model_dn.predict(temp)]\n",
    "        y_dn = np.zeros((pred_list[0].shape[0], len(pred_list)))\n",
    "        for i in range(len(pred_list)):\n",
    "            y_dn[:, i] = pred_list[i].flatten()\n",
    "        y_dn = np.where(y_dn > 0.5, 1, 0)\n",
    "\n",
    "        for kk in range(0,len(y_dn)):\n",
    "            if(((y_dn[kk]==new_aranan_dn).all()) & ((y_up==new_aranan_up).all()) ):\n",
    "                \n",
    "                ecfpler.append(ecfp_new[i])\n",
    "                smileslar.append(smiles_new[i])\n",
    "                zinc.append(zinc_id_new[i])\n",
    "                \n",
    "            if(((y_dn[kk]==new_aranan_dn).all()) ):\n",
    "                print(smiles_new[kk])\n",
    "\n",
    "            if(((y_up[kk]==new_aranan_up).all()) ):\n",
    "                print(smiles_new[kk])\n",
    "        p=s\n",
    "        s=s+1000\n",
    "        return ecfpler,smileslar"
   ]
  },
  {
   "cell_type": "code",
   "execution_count": null,
   "metadata": {},
   "outputs": [],
   "source": [
    "ecfpler1,smileslar1 = sanal_tarama(0,1000, ecfp, smiles,vector_dn1,vector_up1)\n",
    "ecfpler2,smileslar2 = sanal_tarama(0,1000, ecfp, smiles,vector_dn2,vector_up2)\n",
    "ecfpler3,smileslar3 = sanal_tarama(0,1000, ecfp, smiles,vector_dn3,vector_up3)\n",
    "ecfpler4,smileslar4 = sanal_tarama(0,1000, ecfp, smiles,vector_dn4,vector_up4)\n",
    "ecfpler5,smileslar5 = sanal_tarama(0,1000, ecfp, smiles,vector_dn5,vector_up5)\n",
    "ecfpler6,smileslar6 = sanal_tarama(0,1000, ecfp, smiles,vector_dn6,vector_up6)"
   ]
  }
 ],
 "metadata": {
  "kernelspec": {
   "display_name": "Python 3",
   "language": "python",
   "name": "python3"
  },
  "language_info": {
   "codemirror_mode": {
    "name": "ipython",
    "version": 3
   },
   "file_extension": ".py",
   "mimetype": "text/x-python",
   "name": "python",
   "nbconvert_exporter": "python",
   "pygments_lexer": "ipython3",
   "version": "3.6.9"
  }
 },
 "nbformat": 4,
 "nbformat_minor": 4
}

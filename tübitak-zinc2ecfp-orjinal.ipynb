{
 "cells": [
  {
   "cell_type": "code",
   "execution_count": 1,
   "metadata": {},
   "outputs": [],
   "source": [
    "import pandas as pd\n",
    "from rdkit.Chem import AllChem\n",
    "from rdkit.Chem import MACCSkeys\n",
    "from optparse import OptionParser\n",
    "import rdkit\n",
    "import rdkit.Chem as Chem\n",
    "import pickle"
   ]
  },
  {
   "cell_type": "code",
   "execution_count": null,
   "metadata": {},
   "outputs": [],
   "source": [
    "def read_data():\n",
    "    new_df = pd.read_csv(\"zinc.csv\")\n",
    "    smiles_all = new_df['smiles'].tolist()\n",
    "    return new_df, smiles_all"
   ]
  },
  {
   "cell_type": "code",
   "execution_count": null,
   "metadata": {},
   "outputs": [],
   "source": [
    "new_df, smiles_all = read_data()"
   ]
  },
  {
   "cell_type": "code",
   "execution_count": 6,
   "metadata": {},
   "outputs": [],
   "source": [
    "ecfp = []"
   ]
  },
  {
   "cell_type": "code",
   "execution_count": null,
   "metadata": {},
   "outputs": [],
   "source": [
    "def all_search(s,j,k):\n",
    "    for k in range(0,k):\n",
    "        for i in smiles_all[s:j]:\n",
    "            try:\n",
    "                mols = Chem.MolFromSmiles(i) \n",
    "                fp1 = AllChem.GetMorganFingerprintAsBitVect(mols, 3, nBits=1024).ToBitString()\n",
    "                ecfp.append(fp1)\n",
    "            except:\n",
    "                ecfp.append(\"nan\")\n",
    "\n",
    "        s=j\n",
    "        j=j + 1000000\n",
    "        pickle.dump(ecfp, open( \"ecfp.p\", \"wb\" ) )\n",
    "    return ecfp, s, j"
   ]
  },
  {
   "cell_type": "code",
   "execution_count": null,
   "metadata": {},
   "outputs": [],
   "source": [
    "s,j,k = all_search(0,1000000, 120)"
   ]
  },
  {
   "cell_type": "code",
   "execution_count": null,
   "metadata": {},
   "outputs": [],
   "source": [
    "s,j,k = all_search(s,j, 105)"
   ]
  }
 ],
 "metadata": {
  "kernelspec": {
   "display_name": "Python 3",
   "language": "python",
   "name": "python3"
  },
  "language_info": {
   "codemirror_mode": {
    "name": "ipython",
    "version": 3
   },
   "file_extension": ".py",
   "mimetype": "text/x-python",
   "name": "python",
   "nbconvert_exporter": "python",
   "pygments_lexer": "ipython3",
   "version": "3.6.9"
  }
 },
 "nbformat": 4,
 "nbformat_minor": 5
}

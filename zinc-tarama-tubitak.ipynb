{
 "cells": [
  {
   "cell_type": "code",
   "execution_count": null,
   "metadata": {},
   "outputs": [],
   "source": [
    "import pickle\n",
    "import pandas as pd\n",
    "import numpy as np\n",
    "import tensorflow as tf\n",
    "from tensorflow import keras\n",
    "import keras.backend as K"
   ]
  },
  {
   "cell_type": "code",
   "execution_count": null,
   "metadata": {},
   "outputs": [],
   "source": [
    "def read_data():\n",
    "    ecfp = pickle.load( open( \"ecfp.p\", \"rb\" ) )\n",
    "    new_df  = pd.read_csv(\"zinc.csv\")\n",
    "    new_df['ecfp'] = ecfp\n",
    "    gene_list_up = pd.read_csv('gene_lists/PC3_multi_task_ecfp_gene_list_up.txt',header=None ,delimiter = \"\\t\")\n",
    "    genes_up = gene_list_up[0].tolist()\n",
    "    \n",
    "    gene_list_dn = pd.read_csv('gene_lists/PC3_multi_task_ecfp_gene_list_dn.txt',header=None ,delimiter = \"\\t\")\n",
    "    genes_dn = gene_list_dn[0].tolist()\n",
    "    return new_df, ecfp, genes_up, genes_dn"
   ]
  },
  {
   "cell_type": "code",
   "execution_count": null,
   "metadata": {},
   "outputs": [],
   "source": [
    "new_df, ecfp, genes_up, genes_dn = read_data()"
   ]
  },
  {
   "cell_type": "code",
   "execution_count": null,
   "metadata": {},
   "outputs": [],
   "source": [
    "def read_model():\n",
    "    model_up = keras.models.load_model(\"multi-task_ecfp_models/PC3_multi_task_model_ecfp_up.h5\")\n",
    "    model_dn = keras.models.load_model(\"multi-task_ecfp_models/PC3_multi_task_model_ecfp_dn.h5\")\n",
    "    return model_up,model_dn"
   ]
  },
  {
   "cell_type": "code",
   "execution_count": null,
   "metadata": {},
   "outputs": [],
   "source": [
    "model_up, model_dn = read_model()"
   ]
  },
  {
   "cell_type": "code",
   "execution_count": null,
   "metadata": {},
   "outputs": [],
   "source": [
    "def find_target():\n",
    "    \n",
    "    gene_target_up = pd.read_csv('harmonizome_dn_binarized_use_for_up_model.csv')\n",
    "    gene_target_dn = pd.read_csv('harmonizome_up_binarized_use_for_dn_model.csv')\n",
    "    gene_target_up = gene_target_up[gene_target_up['disease1'] == 'Cancer of prostate_Prostate_GSE1413']\n",
    "    gene_target_dn = gene_target_dn[gene_target_dn['disease1'] == 'Cancer of prostate_Prostate_GSE1413']\n",
    "    \n",
    "    aranan_up = {}\n",
    "    for i in gene_target_up.columns:\n",
    "        for j in genes_up:\n",
    "            if(i == j):\n",
    "                aranan_up[i] = int(gene_target_up[i])\n",
    "            \n",
    "    aranan_dn = {}\n",
    "    for i in gene_target_dn.columns:\n",
    "        for j in genes_dn:\n",
    "            if(i == j):\n",
    "                aranan_dn[i] = int(gene_target_dn[i])\n",
    "            \n",
    "   \n",
    "    return aranan_up, aranan_dn"
   ]
  },
  {
   "cell_type": "code",
   "execution_count": null,
   "metadata": {},
   "outputs": [],
   "source": [
    "aranan_up, aranan_dn = find_target()"
   ]
  },
  {
   "cell_type": "code",
   "execution_count": null,
   "metadata": {},
   "outputs": [],
   "source": [
    "def target2numpy(aranan_up, aranan_up):\n",
    "    \n",
    "    new_aranan_up = []\n",
    "    for q,w in aranan_up.items():\n",
    "        new_aranan_up.append(w)\n",
    "    new_aranan_up=np.array(new_aranan_up)\n",
    "\n",
    "    new_aranan_dn = []\n",
    "    for q,w in aranan_dn.items():\n",
    "        new_aranan_dn.append(w)\n",
    "    new_aranan_dn=np.array(new_aranan_dn)\n",
    "    \n",
    "    return new_aranan_up,new_aranan_dn"
   ]
  },
  {
   "cell_type": "code",
   "execution_count": null,
   "metadata": {},
   "outputs": [],
   "source": [
    "new_aranan_up,new_aranan_dn = target2numpy(aranan_up, aranan_up)"
   ]
  },
  {
   "cell_type": "code",
   "execution_count": null,
   "metadata": {},
   "outputs": [],
   "source": [
    "smiles = new_df['smiles'].tolist()\n",
    "ecfp = new_df['ecfp'].tolist()\n",
    "zinc_id = new_df['zinc_id'].tolist()"
   ]
  },
  {
   "cell_type": "code",
   "execution_count": null,
   "metadata": {},
   "outputs": [],
   "source": [
    "ecfpler = []\n",
    "smileslar = []\n",
    "def sanal_tarama(p,s):\n",
    "    \n",
    "    for k in range(0,len(smiles)):\n",
    "        bin_ecfp = ecfp[p:s]\n",
    "        ecfp_new = ecfp[p:s]\n",
    "        smiles_new = smiles[p:s]\n",
    "        zinc_id_new = zinc_id[p:s]\n",
    "        temp = np.zeros((1000,1024))\n",
    "        \n",
    "        for i in range(0,len(bin_ecfp)):\n",
    "            for j in range(0,1024):\n",
    "                temp[i,j] = bin_ecfp[i][j]\n",
    "\n",
    "        pred_list = [x for x in model_up.predict(temp)]\n",
    "        y_up = np.zeros((pred_list[0].shape[0], len(pred_list)))\n",
    "        for i in range(len(pred_list)):\n",
    "            y_up[:, i] = pred_list[i].flatten()\n",
    "        y_up = np.where(y_up > 0.5, 1, 0)\n",
    "\n",
    "        pred_list = [x for x in model_dn.predict(temp)]\n",
    "        y_dn = np.zeros((pred_list[0].shape[0], len(pred_list)))\n",
    "        for i in range(len(pred_list)):\n",
    "            y_dn[:, i] = pred_list[i].flatten()\n",
    "        y_dn = np.where(y_dn > 0.5, 1, 0)\n",
    "\n",
    "        for kk in range(0,len(y_dn)):\n",
    "            if(((y_dn[kk]==new_aranan_dn).all()) & ((y_up==new_aranan_up).all()) ):\n",
    "                \n",
    "                ecfpler.append(ecfp_new[i])\n",
    "                smileslar.append(smiles_new[i])\n",
    "                zinc.append(zinc_id_new[i])\n",
    "                \n",
    "            if(((y_dn[kk]==new_aranan_dn).all()) ):\n",
    "                print(smiles_new[kk])\n",
    "\n",
    "            if(((y_up[kk]==new_aranan_up).all()) ):\n",
    "                print(smiles_new[kk])\n",
    "        p=s\n",
    "        s=s+1000\n",
    "        return ecfpler,smileslar, zinc"
   ]
  },
  {
   "cell_type": "code",
   "execution_count": null,
   "metadata": {
    "scrolled": true
   },
   "outputs": [],
   "source": [
    "ecfpler,smileslar, zinc = sanal_tarama(0,1000)"
   ]
  }
 ],
 "metadata": {
  "kernelspec": {
   "display_name": "Python 3",
   "language": "python",
   "name": "python3"
  },
  "language_info": {
   "codemirror_mode": {
    "name": "ipython",
    "version": 3
   },
   "file_extension": ".py",
   "mimetype": "text/x-python",
   "name": "python",
   "nbconvert_exporter": "python",
   "pygments_lexer": "ipython3",
   "version": "3.6.9"
  }
 },
 "nbformat": 4,
 "nbformat_minor": 5
}
